{
 "cells": [
  {
   "cell_type": "markdown",
   "metadata": {},
   "source": [
    "Problem\n",
    "============\n",
    "Given the time series of CPU consumption (cpu time) of a process, can we predict eta for a similar process in future? And can we answer questions like 1) is the process running slower (consuming less CPU) than how it is supposed to be? 2) Given the CPU consumption rate of a running process and from the past history, can we tell how long this instance is going to take?"
   ]
  },
  {
   "cell_type": "code",
   "execution_count": 1,
   "metadata": {
    "collapsed": false
   },
   "outputs": [
    {
     "data": {
      "text/plain": [
       "['digest.csv',\n",
       " 'digest.2.csv',\n",
       " 'digest.9.csv',\n",
       " 'wrap1.py',\n",
       " 'tmp',\n",
       " 'output.txt',\n",
       " 'digest.7.csv',\n",
       " 'fib.py',\n",
       " '1.output.txt',\n",
       " 'digest.py',\n",
       " 'Analysis.ipynb',\n",
       " 'digest.3.csv',\n",
       " 'digest.1.csv',\n",
       " 'digest.5.csv',\n",
       " 'wrap.sh',\n",
       " 'digest.6.csv',\n",
       " 'Test.ipynb',\n",
       " '.ipynb_checkpoints',\n",
       " 'digest.8.csv',\n",
       " 'digest.10.csv',\n",
       " 'digest.4.csv']"
      ]
     },
     "execution_count": 1,
     "metadata": {},
     "output_type": "execute_result"
    }
   ],
   "source": [
    "import pandas as pd\n",
    "import os\n",
    "os.listdir('.')"
   ]
  },
  {
   "cell_type": "markdown",
   "metadata": {},
   "source": [
    "digest.NO.csv files above are the time series of 10 different runs of a same process with same shape. The processes were setup to be CPU intensive and to sleep for a random period after each run to give a step function with ramps. This should help in validating the regression model that we arrive at below."
   ]
  },
  {
   "cell_type": "code",
   "execution_count": 2,
   "metadata": {
    "collapsed": false
   },
   "outputs": [
    {
     "data": {
      "text/html": [
       "<div>\n",
       "<table border=\"1\" class=\"dataframe\">\n",
       "  <thead>\n",
       "    <tr style=\"text-align: right;\">\n",
       "      <th></th>\n",
       "      <th>timestamp</th>\n",
       "      <th>cputime</th>\n",
       "    </tr>\n",
       "  </thead>\n",
       "  <tbody>\n",
       "    <tr>\n",
       "      <th>0</th>\n",
       "      <td>0.00</td>\n",
       "      <td>1.04</td>\n",
       "    </tr>\n",
       "    <tr>\n",
       "      <th>1</th>\n",
       "      <td>1.03</td>\n",
       "      <td>2.06</td>\n",
       "    </tr>\n",
       "    <tr>\n",
       "      <th>2</th>\n",
       "      <td>2.07</td>\n",
       "      <td>2.78</td>\n",
       "    </tr>\n",
       "    <tr>\n",
       "      <th>3</th>\n",
       "      <td>3.11</td>\n",
       "      <td>2.78</td>\n",
       "    </tr>\n",
       "    <tr>\n",
       "      <th>4</th>\n",
       "      <td>4.15</td>\n",
       "      <td>2.78</td>\n",
       "    </tr>\n",
       "  </tbody>\n",
       "</table>\n",
       "</div>"
      ],
      "text/plain": [
       "   timestamp  cputime\n",
       "0       0.00     1.04\n",
       "1       1.03     2.06\n",
       "2       2.07     2.78\n",
       "3       3.11     2.78\n",
       "4       4.15     2.78"
      ]
     },
     "execution_count": 2,
     "metadata": {},
     "output_type": "execute_result"
    }
   ],
   "source": [
    "csv1 = pd.read_csv('./digest.1.csv')\n",
    "csv1.head()"
   ]
  },
  {
   "cell_type": "markdown",
   "metadata": {
    "collapsed": false
   },
   "source": [
    "Loading all the input files and merging them into a single big data set and then plotting them in a scatter."
   ]
  },
  {
   "cell_type": "code",
   "execution_count": 3,
   "metadata": {
    "collapsed": false
   },
   "outputs": [
    {
     "data": {
      "text/plain": [
       "<matplotlib.axes._subplots.AxesSubplot at 0x36c5110>"
      ]
     },
     "execution_count": 3,
     "metadata": {},
     "output_type": "execute_result"
    },
    {
     "data": {
      "image/png": "[encoded data removed]",
      "text/plain": [
       "<matplotlib.figure.Figure at 0x36becd0>"
      ]
     },
     "metadata": {},
     "output_type": "display_data"
    }
   ],
   "source": [
    "%matplotlib inline\n",
    "csv = None\n",
    "for i in range(10):\n",
    "    csv_ = pd.read_csv('./digest.%d.csv' % (i+1))\n",
    "    if csv is None:\n",
    "        csv = csv_\n",
    "    else:\n",
    "        csv.append(csv_)\n",
    "csv.plot(kind='scatter', x = 'timestamp', y='cputime')\n"
   ]
  },
  {
   "cell_type": "markdown",
   "metadata": {},
   "source": [
    "Clearly, the shape above is not simple one and doesn't seem to fit into standard linear or polynomial models. After trying ploynomial (linear with features mapped to higher degrees, upto 4 in this case) regression and support vector regression using 'poly' kernel, 'rbf' kernel seems to work perfectly well.\n",
    "\n",
    "TODO: Train with 'training' data set and test against 'cross validation' data set. "
   ]
  },
  {
   "cell_type": "code",
   "execution_count": 4,
   "metadata": {
    "collapsed": false
   },
   "outputs": [
    {
     "data": {
      "text/plain": [
       "<matplotlib.axes._subplots.AxesSubplot at 0x46d1450>"
      ]
     },
     "execution_count": 4,
     "metadata": {},
     "output_type": "execute_result"
    },
    {
     "data": {
      "image/png": "[encoded data removed]",
      "text/plain": [
       "<matplotlib.figure.Figure at 0x4657c10>"
      ]
     },
     "metadata": {},
     "output_type": "display_data"
    }
   ],
   "source": [
    "from sklearn.svm import SVR\n",
    "lr = SVR(kernel='rbf', C=1e3, degree=2)\n",
    "x = lr.fit(csv[['timestamp']][:400], csv['cputime'][:400])\n",
    "x\n",
    "df = pd.DataFrame([(p,x.predict(p)[0]) for p in range(300)], columns=['x', 'y'])\n",
    "df.plot(x='x', y='y')"
   ]
  },
  {
   "cell_type": "code",
   "execution_count": 23,
   "metadata": {
    "collapsed": false
   },
   "outputs": [
    {
     "data": {
      "text/plain": [
       "320.0"
      ]
     },
     "execution_count": 23,
     "metadata": {},
     "output_type": "execute_result"
    }
   ],
   "source": [
    "# at runtime\n",
    "r = 100\n",
    "\n",
    "# max runtime - job completes here\n",
    "m = 420\n",
    "\n",
    "# tweak this manually for tests\n",
    "c = x.predict(r)[0]\n",
    "\n",
    "# expected output at 'r'\n",
    "C = x.predict(r)[0]\n",
    "\n",
    "# lagging factor\n",
    "lf = c/C\n",
    "\n",
    "# current average rate of change\n",
    "avr_curr = c/r\n",
    "\n",
    "# remaining work till r (should be > 0 when c < C)\n",
    "rw = (C-c)/avr_curr\n",
    "\n",
    "# pending work from r till completion\n",
    "ideal_avr_from_r = (x.predict(m)[0] - C) / (m-r)\n",
    "\n",
    "# real avr_from_r - the average rate of change from r is less than ideal due to lagging factor\n",
    "real_avr_from_r = lf * ideal_avr_from_r\n",
    "\n",
    "# runtime remaining from r till completion\n",
    "runtime = (x.predict(m)[0] - C)/real_avr_from_r\n",
    "\n",
    "runtime+rw\n",
    "\n",
    "# Output summary:\n",
    "# c = 1:1294.7743589634861\n",
    "# c = 1.5: 829.84957264232412\n",
    "# c = 2: 597.38717948174303\n",
    "# c = 2.5: 457.90974358539449\n",
    "# c = 3: 364.92478632116206\n",
    "# ideal condition(not low CPU): 320.0 (i.e. )"
   ]
  },
  {
   "cell_type": "code",
   "execution_count": null,
   "metadata": {
    "collapsed": true
   },
   "outputs": [],
   "source": []
  }
 ],
 "metadata": {
  "kernelspec": {
   "display_name": "Python 2",
   "language": "python",
   "name": "python2"
  },
  "language_info": {
   "codemirror_mode": {
    "name": "ipython",
    "version": 2
   },
   "file_extension": ".py",
   "mimetype": "text/x-python",
   "name": "python",
   "nbconvert_exporter": "python",
   "pygments_lexer": "ipython2",
   "version": "2.7.3"
  }
 },
 "nbformat": 4,
 "nbformat_minor": 0
}
